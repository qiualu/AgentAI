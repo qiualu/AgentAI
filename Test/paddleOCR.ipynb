{
 "cells": [
  {
   "cell_type": "code",
   "execution_count": 4,
   "id": "5a8a7f79",
   "metadata": {},
   "outputs": [
    {
     "ename": "ModuleNotFoundError",
     "evalue": "No module named 'paddleocr'",
     "output_type": "error",
     "traceback": [
      "\u001b[1;31m---------------------------------------------------------------------------\u001b[0m",
      "\u001b[1;31mModuleNotFoundError\u001b[0m                       Traceback (most recent call last)",
      "Cell \u001b[1;32mIn[4], line 1\u001b[0m\n\u001b[1;32m----> 1\u001b[0m \u001b[38;5;28;01mimport\u001b[39;00m \u001b[38;5;21;01mpaddleocr\u001b[39;00m\n\u001b[0;32m      2\u001b[0m \u001b[38;5;28;01mfrom\u001b[39;00m \u001b[38;5;21;01mPIL\u001b[39;00m \u001b[38;5;28;01mimport\u001b[39;00m Image\n\u001b[0;32m      3\u001b[0m \u001b[38;5;66;03m# img = Image.open('af.png')\u001b[39;00m\n",
      "\u001b[1;31mModuleNotFoundError\u001b[0m: No module named 'paddleocr'"
     ]
    }
   ],
   "source": [
    "import paddleocr\n",
    "from PIL import Image\n",
    "# img = Image.open('af.png')\n",
    "from paddleocr import PaddleOCR"
   ]
  },
  {
   "cell_type": "code",
   "execution_count": 4,
   "id": "b8fe2d5f",
   "metadata": {},
   "outputs": [
    {
     "data": {
      "text/plain": [
       "['E:\\\\Projece\\\\python\\\\AgentAI\\\\Test',\n",
       " 'C:\\\\Users\\\\yl\\\\Desktop\\\\Pepper\\\\pynaoqi-python2.7-2.5.7.1-win32-vs2013\\\\lib',\n",
       " 'D:\\\\ProgramFiles\\\\Program\\\\anaconda3\\\\python310.zip',\n",
       " 'D:\\\\ProgramFiles\\\\Program\\\\anaconda3\\\\DLLs',\n",
       " 'D:\\\\ProgramFiles\\\\Program\\\\anaconda3\\\\lib',\n",
       " 'D:\\\\ProgramFiles\\\\Program\\\\anaconda3',\n",
       " '',\n",
       " 'D:\\\\ProgramFiles\\\\Program\\\\anaconda3\\\\lib\\\\site-packages',\n",
       " 'D:\\\\ProgramFiles\\\\Program\\\\anaconda3\\\\lib\\\\site-packages\\\\win32',\n",
       " 'D:\\\\ProgramFiles\\\\Program\\\\anaconda3\\\\lib\\\\site-packages\\\\win32\\\\lib',\n",
       " 'D:\\\\ProgramFiles\\\\Program\\\\anaconda3\\\\lib\\\\site-packages\\\\Pythonwin']"
      ]
     },
     "execution_count": 4,
     "metadata": {},
     "output_type": "execute_result"
    }
   ],
   "source": [
    "import sys\n",
    "sys.path"
   ]
  },
  {
   "cell_type": "code",
   "execution_count": 5,
   "id": "75071113",
   "metadata": {},
   "outputs": [],
   "source": [
    "plist = ['E:\\\\Projece\\\\python\\\\AgentAI\\\\Test', 'E:\\\\Projece\\\\python\\\\AgentAI', 'C:\\\\Users\\\\yl\\\\Desktop\\\\Pepper\\\\pynaoqi-python2.7-2.5.7.1-win32-vs2013\\\\lib', 'D:\\\\ProgramFiles\\\\Program\\\\PyCharm 2023.1\\\\plugins\\\\python\\\\helpers\\\\pycharm_display', 'C:\\\\Users\\\\yl\\\\.conda\\\\envs\\\\AgentAI\\\\python310.zip', 'C:\\\\Users\\\\yl\\\\.conda\\\\envs\\\\AgentAI\\\\DLLs', 'C:\\\\Users\\\\yl\\\\.conda\\\\envs\\\\AgentAI\\\\lib', 'C:\\\\Users\\\\yl\\\\.conda\\\\envs\\\\AgentAI', 'C:\\\\Users\\\\yl\\\\.conda\\\\envs\\\\AgentAI\\\\lib\\\\site-packages', 'C:\\\\Users\\\\yl\\\\.conda\\\\envs\\\\AgentAI\\\\lib\\\\site-packages\\\\win32', 'C:\\\\Users\\\\yl\\\\.conda\\\\envs\\\\AgentAI\\\\lib\\\\site-packages\\\\win32\\\\lib', 'C:\\\\Users\\\\yl\\\\.conda\\\\envs\\\\AgentAI\\\\lib\\\\site-packages\\\\Pythonwin', 'D:\\\\ProgramFiles\\\\Program\\\\PyCharm 2023.1\\\\plugins\\\\python\\\\helpers\\\\pycharm_matplotlib_backend']"
   ]
  },
  {
   "cell_type": "code",
   "execution_count": 6,
   "id": "09fe3377",
   "metadata": {},
   "outputs": [],
   "source": [
    "q = sys.path"
   ]
  },
  {
   "cell_type": "code",
   "execution_count": 7,
   "id": "c04be508",
   "metadata": {},
   "outputs": [
    {
     "data": {
      "text/plain": [
       "['E:\\\\Projece\\\\python\\\\AgentAI\\\\Test',\n",
       " 'E:\\\\Projece\\\\python\\\\AgentAI',\n",
       " 'C:\\\\Users\\\\yl\\\\Desktop\\\\Pepper\\\\pynaoqi-python2.7-2.5.7.1-win32-vs2013\\\\lib',\n",
       " 'D:\\\\ProgramFiles\\\\Program\\\\PyCharm 2023.1\\\\plugins\\\\python\\\\helpers\\\\pycharm_display',\n",
       " 'C:\\\\Users\\\\yl\\\\.conda\\\\envs\\\\AgentAI\\\\python310.zip',\n",
       " 'C:\\\\Users\\\\yl\\\\.conda\\\\envs\\\\AgentAI\\\\DLLs',\n",
       " 'C:\\\\Users\\\\yl\\\\.conda\\\\envs\\\\AgentAI\\\\lib',\n",
       " 'C:\\\\Users\\\\yl\\\\.conda\\\\envs\\\\AgentAI',\n",
       " 'C:\\\\Users\\\\yl\\\\.conda\\\\envs\\\\AgentAI\\\\lib\\\\site-packages',\n",
       " 'C:\\\\Users\\\\yl\\\\.conda\\\\envs\\\\AgentAI\\\\lib\\\\site-packages\\\\win32',\n",
       " 'C:\\\\Users\\\\yl\\\\.conda\\\\envs\\\\AgentAI\\\\lib\\\\site-packages\\\\win32\\\\lib',\n",
       " 'C:\\\\Users\\\\yl\\\\.conda\\\\envs\\\\AgentAI\\\\lib\\\\site-packages\\\\Pythonwin',\n",
       " 'D:\\\\ProgramFiles\\\\Program\\\\PyCharm 2023.1\\\\plugins\\\\python\\\\helpers\\\\pycharm_matplotlib_backend']"
      ]
     },
     "execution_count": 7,
     "metadata": {},
     "output_type": "execute_result"
    }
   ],
   "source": [
    "plist"
   ]
  },
  {
   "cell_type": "code",
   "execution_count": 8,
   "id": "a1fefab4",
   "metadata": {},
   "outputs": [
    {
     "data": {
      "text/plain": [
       "['E:\\\\Projece\\\\python\\\\AgentAI\\\\Test',\n",
       " 'C:\\\\Users\\\\yl\\\\Desktop\\\\Pepper\\\\pynaoqi-python2.7-2.5.7.1-win32-vs2013\\\\lib',\n",
       " 'D:\\\\ProgramFiles\\\\Program\\\\anaconda3\\\\python310.zip',\n",
       " 'D:\\\\ProgramFiles\\\\Program\\\\anaconda3\\\\DLLs',\n",
       " 'D:\\\\ProgramFiles\\\\Program\\\\anaconda3\\\\lib',\n",
       " 'D:\\\\ProgramFiles\\\\Program\\\\anaconda3',\n",
       " '',\n",
       " 'D:\\\\ProgramFiles\\\\Program\\\\anaconda3\\\\lib\\\\site-packages',\n",
       " 'D:\\\\ProgramFiles\\\\Program\\\\anaconda3\\\\lib\\\\site-packages\\\\win32',\n",
       " 'D:\\\\ProgramFiles\\\\Program\\\\anaconda3\\\\lib\\\\site-packages\\\\win32\\\\lib',\n",
       " 'D:\\\\ProgramFiles\\\\Program\\\\anaconda3\\\\lib\\\\site-packages\\\\Pythonwin']"
      ]
     },
     "execution_count": 8,
     "metadata": {},
     "output_type": "execute_result"
    }
   ],
   "source": [
    "q"
   ]
  },
  {
   "cell_type": "code",
   "execution_count": 9,
   "id": "508b4d0c",
   "metadata": {},
   "outputs": [
    {
     "name": "stdout",
     "output_type": "stream",
     "text": [
      "E:\\Projece\\python\\AgentAI\n",
      "D:\\ProgramFiles\\Program\\PyCharm 2023.1\\plugins\\python\\helpers\\pycharm_display\n",
      "C:\\Users\\yl\\.conda\\envs\\AgentAI\\python310.zip\n",
      "C:\\Users\\yl\\.conda\\envs\\AgentAI\\DLLs\n",
      "C:\\Users\\yl\\.conda\\envs\\AgentAI\\lib\n",
      "C:\\Users\\yl\\.conda\\envs\\AgentAI\n",
      "C:\\Users\\yl\\.conda\\envs\\AgentAI\\lib\\site-packages\n",
      "C:\\Users\\yl\\.conda\\envs\\AgentAI\\lib\\site-packages\\win32\n",
      "C:\\Users\\yl\\.conda\\envs\\AgentAI\\lib\\site-packages\\win32\\lib\n",
      "C:\\Users\\yl\\.conda\\envs\\AgentAI\\lib\\site-packages\\Pythonwin\n",
      "D:\\ProgramFiles\\Program\\PyCharm 2023.1\\plugins\\python\\helpers\\pycharm_matplotlib_backend\n"
     ]
    }
   ],
   "source": [
    "for i in plist:\n",
    "    if i not in  q:\n",
    "        print(i)\n",
    "        sys.path.append(i)"
   ]
  },
  {
   "cell_type": "code",
   "execution_count": 10,
   "id": "325364b9",
   "metadata": {},
   "outputs": [],
   "source": [
    "import paddleocr\n",
    "from PIL import Image\n",
    "# img = Image.open('af.png')\n",
    "from paddleocr import PaddleOCR"
   ]
  },
  {
   "cell_type": "code",
   "execution_count": null,
   "id": "252b2762",
   "metadata": {},
   "outputs": [
    {
     "name": "stdout",
     "output_type": "stream",
     "text": [
      "[2023/05/24 18:36:49] ppocr DEBUG: Namespace(help='==SUPPRESS==', use_gpu=False, use_xpu=False, use_npu=False, ir_optim=True, use_tensorrt=False, min_subgraph_size=15, precision='fp32', gpu_mem=500, image_dir=None, page_num=0, det_algorithm='DB', det_model_dir='C:\\\\Users\\\\yl/.paddleocr/whl\\\\det\\\\ch\\\\ch_PP-OCRv3_det_infer', det_limit_side_len=960, det_limit_type='max', det_box_type='quad', det_db_thresh=0.3, det_db_box_thresh=0.6, det_db_unclip_ratio=1.5, max_batch_size=10, use_dilation=False, det_db_score_mode='fast', det_east_score_thresh=0.8, det_east_cover_thresh=0.1, det_east_nms_thresh=0.2, det_sast_score_thresh=0.5, det_sast_nms_thresh=0.2, det_pse_thresh=0, det_pse_box_thresh=0.85, det_pse_min_area=16, det_pse_scale=1, scales=[8, 16, 32], alpha=1.0, beta=1.0, fourier_degree=5, rec_algorithm='SVTR_LCNet', rec_model_dir='C:\\\\Users\\\\yl/.paddleocr/whl\\\\rec\\\\ch\\\\ch_PP-OCRv3_rec_infer', rec_image_inverse=True, rec_image_shape='3, 48, 320', rec_batch_num=6, max_text_length=25, rec_char_dict_path='C:\\\\Users\\\\yl\\\\.conda\\\\envs\\\\AgentAI\\\\lib\\\\site-packages\\\\paddleocr\\\\ppocr\\\\utils\\\\ppocr_keys_v1.txt', use_space_char=True, vis_font_path='./doc/fonts/simfang.ttf', drop_score=0.5, e2e_algorithm='PGNet', e2e_model_dir=None, e2e_limit_side_len=768, e2e_limit_type='max', e2e_pgnet_score_thresh=0.5, e2e_char_dict_path='./ppocr/utils/ic15_dict.txt', e2e_pgnet_valid_set='totaltext', e2e_pgnet_mode='fast', use_angle_cls=False, cls_model_dir='C:\\\\Users\\\\yl/.paddleocr/whl\\\\cls\\\\ch_ppocr_mobile_v2.0_cls_infer', cls_image_shape='3, 48, 192', label_list=['0', '180'], cls_batch_num=6, cls_thresh=0.9, enable_mkldnn=False, cpu_threads=10, use_pdserving=False, warmup=False, sr_model_dir=None, sr_image_shape='3, 32, 128', sr_batch_num=1, draw_img_save_dir='./inference_results', save_crop_res=False, crop_res_save_dir='./output', use_mp=False, total_process_num=1, process_id=0, benchmark=False, save_log_path='./log_output/', show_log=True, use_onnx=False, output='./output', table_max_len=488, table_algorithm='TableAttn', table_model_dir=None, merge_no_span_structure=True, table_char_dict_path=None, layout_model_dir=None, layout_dict_path=None, layout_score_threshold=0.5, layout_nms_threshold=0.5, kie_algorithm='LayoutXLM', ser_model_dir=None, re_model_dir=None, use_visual_backbone=True, ser_dict_path='../train_data/XFUND/class_list_xfun.txt', ocr_order_method=None, mode='structure', image_orientation=False, layout=True, table=True, ocr=True, recovery=False, use_pdf2docx_api=False, lang='ch', det=True, rec=True, type='ocr', ocr_version='PP-OCRv3', structure_version='PP-StructureV2')\n"
     ]
    }
   ],
   "source": [
    "ocr = PaddleOCR()\n",
    "# result = ocr.ocr(img, det=True, rec=True)\n",
    "imgname = 'data/af.png'\n",
    "with open(imgname, 'rb') as f:\n",
    "    img_bytes = f.read()\n",
    "result = ocr.ocr(img_bytes, det=True, rec=True)\n",
    "print(\"result: \",result)"
   ]
  },
  {
   "cell_type": "code",
   "execution_count": 1,
   "id": "c5d72ca9",
   "metadata": {},
   "outputs": [
    {
     "ename": "NameError",
     "evalue": "name 'result' is not defined",
     "output_type": "error",
     "traceback": [
      "\u001b[1;31m---------------------------------------------------------------------------\u001b[0m",
      "\u001b[1;31mNameError\u001b[0m                                 Traceback (most recent call last)",
      "Cell \u001b[1;32mIn[1], line 1\u001b[0m\n\u001b[1;32m----> 1\u001b[0m \u001b[43mresult\u001b[49m\n",
      "\u001b[1;31mNameError\u001b[0m: name 'result' is not defined"
     ]
    }
   ],
   "source": [
    "result"
   ]
  },
  {
   "cell_type": "code",
   "execution_count": null,
   "id": "23439a98",
   "metadata": {},
   "outputs": [],
   "source": []
  }
 ],
 "metadata": {
  "kernelspec": {
   "display_name": "Python 3 (ipykernel)",
   "language": "python",
   "name": "python3"
  },
  "language_info": {
   "codemirror_mode": {
    "name": "ipython",
    "version": 3
   },
   "file_extension": ".py",
   "mimetype": "text/x-python",
   "name": "python",
   "nbconvert_exporter": "python",
   "pygments_lexer": "ipython3",
   "version": "3.10.9"
  }
 },
 "nbformat": 4,
 "nbformat_minor": 5
}
