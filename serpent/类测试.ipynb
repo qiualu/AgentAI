{
 "cells": [
  {
   "cell_type": "code",
   "execution_count": 2,
   "id": "05278ea6",
   "metadata": {},
   "outputs": [],
   "source": [
    "from Serpent import initialize_game"
   ]
  },
  {
   "cell_type": "code",
   "execution_count": 4,
   "id": "0ee827be",
   "metadata": {},
   "outputs": [
    {
     "name": "stdout",
     "output_type": "stream",
     "text": [
      "脚本当中 kwargs  {'platform': 'executable', 'window_name': 'VirtuaNESex - 16.Q版沙蛇 无限人', 'executable_path': 'D:\\\\BaiduNetdiskDownload\\\\小霸王\\\\小霸王游戏\\\\FC全集\\\\★★★FC模拟器★★★【打开模拟器，把游戏拖到模拟器运行】\\\\VirtuaNESex.exe'}\n",
      "_load_adapter\n"
     ]
    }
   ],
   "source": [
    "game = initialize_game(\"MLA\")"
   ]
  },
  {
   "cell_type": "code",
   "execution_count": 7,
   "id": "5c4e8684",
   "metadata": {},
   "outputs": [
    {
     "name": "stdout",
     "output_type": "stream",
     "text": [
      " s窗口ID :  None\n",
      "VirtuaNESex - 16.Q版沙蛇 无限人\n",
      " d窗口ID :  18088708\n",
      "<serpent.game_frame.GameFrame object at 0x000001F0139D6890> <serpent.game_frame.GameFrame object at 0x000001F01383A770>\n"
     ]
    }
   ],
   "source": [
    "# 启动游戏\n",
    "game.printscreen()"
   ]
  },
  {
   "cell_type": "code",
   "execution_count": null,
   "id": "8c6a10a0",
   "metadata": {},
   "outputs": [],
   "source": []
  }
 ],
 "metadata": {
  "kernelspec": {
   "display_name": "Python 3 (ipykernel)",
   "language": "python",
   "name": "python3"
  },
  "language_info": {
   "codemirror_mode": {
    "name": "ipython",
    "version": 3
   },
   "file_extension": ".py",
   "mimetype": "text/x-python",
   "name": "python",
   "nbconvert_exporter": "python",
   "pygments_lexer": "ipython3",
   "version": "3.10.10"
  }
 },
 "nbformat": 4,
 "nbformat_minor": 5
}
